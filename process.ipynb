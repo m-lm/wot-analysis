{
 "cells": [
  {
   "cell_type": "code",
   "execution_count": 25,
   "metadata": {},
   "outputs": [
    {
     "name": "stdout",
     "output_type": "stream",
     "text": [
      "                 Name    First      Last\n",
      "0        Rand al'Thor     Rand   al'Thor\n",
      "1         Mat Cauthon      Mat   Cauthon\n",
      "2       Perrin Aybara   Perrin    Aybara\n",
      "3      Egwene al'Vere   Egwene   al'Vere\n",
      "4    Nynaeve al'Meara  Nynaeve  al'Meara\n",
      "..                ...      ...       ...\n",
      "263   Nicola Treehill   Nicola  Treehill\n",
      "264        Chel Vanin     Chel     Vanin\n",
      "265     Evin Vinchova     Evin  Vinchova\n",
      "266             Yoeli    Yoeli      None\n",
      "267     Asne Zeramene     Asne  Zeramene\n",
      "\n",
      "[268 rows x 3 columns]\n"
     ]
    },
    {
     "name": "stderr",
     "output_type": "stream",
     "text": [
      "/Users/micahmccollum/.virtualenvs/wot-analysis/lib/python3.9/site-packages/spacy/displacy/__init__.py:69: DeprecationWarning: Importing display from IPython.core.display is deprecated since IPython 7.14, please import from IPython display\n",
      "  from IPython.core.display import HTML, display\n"
     ]
    },
    {
     "data": {
      "text/html": [
       "<span class=\"tex2jax_ignore\"><div class=\"entities\" style=\"line-height: 2.5; direction: ltr\">Lews \n",
       "<mark class=\"entity\" style=\"background: #aa9cfc; padding: 0.45em 0.6em; margin: 0 0.25em; line-height: 1; border-radius: 0.35em;\">\n",
       "    Therin Telamon\n",
       "    <span style=\"font-size: 0.8em; font-weight: bold; line-height: 1; border-radius: 0.35em; vertical-align: middle; margin-left: 0.5rem\">PERSON</span>\n",
       "</mark>\n",
       " wandered the palace, deftly keeping his balance when the earth heaved. </div></span>"
      ],
      "text/plain": [
       "<IPython.core.display.HTML object>"
      ]
     },
     "metadata": {},
     "output_type": "display_data"
    },
    {
     "name": "stderr",
     "output_type": "stream",
     "text": [
      "/Users/micahmccollum/.virtualenvs/wot-analysis/lib/python3.9/site-packages/spacy/displacy/__init__.py:213: UserWarning: [W006] No entities to visualize found in Doc object. If this is surprising to you, make sure the Doc was processed using a model that supports named entity recognition, and check the `doc.ents` property manually if necessary.\n",
      "  warnings.warn(Warnings.W006)\n"
     ]
    },
    {
     "data": {
      "text/html": [
       "<span class=\"tex2jax_ignore\"><div class=\"entities\" style=\"line-height: 2.5; direction: ltr\">&quot;Ilyena! <br></div></span>"
      ],
      "text/plain": [
       "<IPython.core.display.HTML object>"
      ]
     },
     "metadata": {},
     "output_type": "display_data"
    },
    {
     "data": {
      "text/html": [
       "<span class=\"tex2jax_ignore\"><div class=\"entities\" style=\"line-height: 2.5; direction: ltr\">My love, where are you?&quot; </div></span>"
      ],
      "text/plain": [
       "<IPython.core.display.HTML object>"
      ]
     },
     "metadata": {},
     "output_type": "display_data"
    },
    {
     "data": {
      "text/html": [
       "<span class=\"tex2jax_ignore\"><div class=\"entities\" style=\"line-height: 2.5; direction: ltr\">The edge of his pale gray cloak trailed through blood as he stepped across the <br>body of a woman, her golden-haired beauty marred by the horror of her last moments, her still-open <br>eyes frozen in disbelief. </div></span>"
      ],
      "text/plain": [
       "<IPython.core.display.HTML object>"
      ]
     },
     "metadata": {},
     "output_type": "display_data"
    },
    {
     "data": {
      "text/html": [
       "<span class=\"tex2jax_ignore\"><div class=\"entities\" style=\"line-height: 2.5; direction: ltr\">&quot;Where are you, my wife? </div></span>"
      ],
      "text/plain": [
       "<IPython.core.display.HTML object>"
      ]
     },
     "metadata": {},
     "output_type": "display_data"
    },
    {
     "data": {
      "text/html": [
       "<span class=\"tex2jax_ignore\"><div class=\"entities\" style=\"line-height: 2.5; direction: ltr\">Where is everyone hiding?&quot; </div></span>"
      ],
      "text/plain": [
       "<IPython.core.display.HTML object>"
      ]
     },
     "metadata": {},
     "output_type": "display_data"
    }
   ],
   "source": [
    "import os\n",
    "import spacy\n",
    "import pandas as pd\n",
    "\n",
    "# Some important characters are called/known by multiple aliases\n",
    "# Some like kings, Amyrlins, Nae'blis change with time\n",
    "# Some are necessary because of transformations, but others may be omitted because familiar usage implies closeness or importance\n",
    "aliases = {\n",
    "    \"Rand al'Thor\" : [\"Lews Therin Telamon\", \"Dragon Reborn\", \"Car'a'carn\"],\n",
    "    \"Ishamael\" : [\"Elan Morin Tedronai\", \"Moridin\", \"Ba'alzamon\"],\n",
    "    \"Dark One\" : [\"Shai'tan\", \"Father of Lies\", \"Sightblinder\", \"Lord of the Grave\", \"Great Lord\"],\n",
    "    \"Aginor\" : [\"Osan'gar\"],\n",
    "    \"Lanfear\" : [\"Cyndane\"],\n",
    "    \"Mazrim Taim\" : [\"M'Hael\"],\n",
    "    \"Balthamel\" : [\"Aran'gar\", \"Halima\", \"Corlan Dashiva\"],\n",
    "    \"Asmodean\" : [\"Jasin Natael\"],\n",
    "    \"Zarine Basher\" : [\"Faile\"],\n",
    "    \"Galadedrid Damodred\" : [\"Galad\"],\n",
    "    \"Someshta\" : [\"The Green Man\"]\n",
    "}\n",
    "\n",
    "# Convert scraped text file to dataframe\n",
    "df = pd.read_csv(\"final_names.txt\", header = None)\n",
    "df.columns = [\"Name\"]\n",
    "# Split names into first and last\n",
    "df[[\"First\", \"Last\"]] = df[\"Name\"].str.split(\" \", n = 1, expand = True)\n",
    "\n",
    "content = '''Lews Therin Telamon wandered the palace, deftly keeping his balance when the earth heaved. \"Ilyena! \n",
    "My love, where are you?\" The edge of his pale gray cloak trailed through blood as he stepped across the \n",
    "body of a woman, her golden-haired beauty marred by the horror of her last moments, her still-open \n",
    "eyes frozen in disbelief. \"Where are you, my wife? Where is everyone hiding?\" '''\n",
    "nlp = spacy.load(\"en_core_web_sm\")\n",
    "doc = nlp(content)\n",
    "\n",
    "# Tokenize by sentence\n",
    "for token in doc.sents:\n",
    "    spacy.displacy.render(token, style = \"ent\")\n",
    "    #print(token.text.strip())\n"
   ]
  }
 ],
 "metadata": {
  "kernelspec": {
   "display_name": "wot-analysis",
   "language": "python",
   "name": "python3"
  },
  "language_info": {
   "codemirror_mode": {
    "name": "ipython",
    "version": 3
   },
   "file_extension": ".py",
   "mimetype": "text/x-python",
   "name": "python",
   "nbconvert_exporter": "python",
   "pygments_lexer": "ipython3",
   "version": "3.9.12"
  }
 },
 "nbformat": 4,
 "nbformat_minor": 2
}
