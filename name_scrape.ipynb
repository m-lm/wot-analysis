{
 "cells": [
  {
   "cell_type": "code",
   "execution_count": 20,
   "metadata": {},
   "outputs": [],
   "source": [
    "from selenium import webdriver\n",
    "from selenium.webdriver.common.by import By\n",
    "\n",
    "# Create driver to scrape character wiki webpage\n",
    "# Too many characters to list on one page; so divide into men and women\n",
    "driver = webdriver.Chrome()\n",
    "driver.get(\"https://en.wikipedia.org/wiki/List_of_The_Wheel_of_Time_characters\")\n",
    "driver.implicitly_wait(1)\n",
    "\n",
    "# Get text (names) from the character elements\n",
    "# Write names scraped as new lines in text file\n",
    "elems = driver.find_elements(By.CLASS_NAME, \"mw-headline\")\n",
    "cutoff = 0\n",
    "for i in range(len(elems)):\n",
    "    if elems[i].text == \"Other\":\n",
    "        cutoff = i\n",
    "        break\n",
    "elems = elems[1:cutoff]\n",
    "with open(\"names.txt\", \"w\", encoding = \"utf-8\") as f:\n",
    "    f.writelines(e.text + \"\\n\" for e in elems)\n",
    "driver.quit()\n"
   ]
  }
 ],
 "metadata": {
  "kernelspec": {
   "display_name": "wot-analysis",
   "language": "python",
   "name": "python3"
  },
  "language_info": {
   "codemirror_mode": {
    "name": "ipython",
    "version": 3
   },
   "file_extension": ".py",
   "mimetype": "text/x-python",
   "name": "python",
   "nbconvert_exporter": "python",
   "pygments_lexer": "ipython3",
   "version": "3.9.12"
  }
 },
 "nbformat": 4,
 "nbformat_minor": 2
}
