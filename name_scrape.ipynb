{
 "cells": [
  {
   "cell_type": "code",
   "execution_count": 36,
   "metadata": {},
   "outputs": [],
   "source": [
    "from selenium import webdriver\n",
    "from selenium.webdriver.common.by import By\n",
    "\n",
    "# Create driver to scrape character wiki webpage\n",
    "# Too many characters to list on one page; so divide into men and women\n",
    "driver = webdriver.Chrome()\n",
    "driver.get(\"https://en.wikipedia.org/wiki/List_of_The_Wheel_of_Time_characters\")\n",
    "driver.implicitly_wait(1)\n"
   ]
  },
  {
   "cell_type": "code",
   "execution_count": 37,
   "metadata": {},
   "outputs": [],
   "source": [
    "\n",
    "# Get text (names) from the character elements\n",
    "elems = driver.find_elements(By.CLASS_NAME, \"mw-headline\")\n",
    "\n",
    "# Cut off non-character headers\n",
    "for i in range(len(elems)):\n",
    "    if elems[i].text == \"Other\":\n",
    "        elems = elems[1:i]\n",
    "        break\n",
    "\n",
    "# Convert elements from WebObject to strings\n",
    "# Then, remove text without \": \" or don't start with a letter to get rid of references\n",
    "elems = [e.text for e in elems]\n",
    "elems += [e.text[:e.text.index(\":\")] for e in driver.find_elements(By.TAG_NAME, \"li\") if \": \" in e.text and e.text[0].isalpha()]\n",
    "\n",
    "# Write scraped names to file, separated by new line\n",
    "with open(\"names.txt\", \"w\", encoding = \"utf-8\") as f:\n",
    "    f.writelines(e + \"\\n\" for e in elems)\n",
    "driver.quit()\n"
   ]
  }
 ],
 "metadata": {
  "kernelspec": {
   "display_name": "wot-analysis",
   "language": "python",
   "name": "python3"
  },
  "language_info": {
   "codemirror_mode": {
    "name": "ipython",
    "version": 3
   },
   "file_extension": ".py",
   "mimetype": "text/x-python",
   "name": "python",
   "nbconvert_exporter": "python",
   "pygments_lexer": "ipython3",
   "version": "3.9.12"
  }
 },
 "nbformat": 4,
 "nbformat_minor": 2
}
